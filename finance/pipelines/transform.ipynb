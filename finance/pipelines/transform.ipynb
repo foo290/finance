{
 "cells": [
  {
   "cell_type": "code",
   "execution_count": 1,
   "id": "5f3d979c",
   "metadata": {
    "editable": true,
    "execution": {
     "iopub.execute_input": "2025-05-31T04:33:53.225474Z",
     "iopub.status.busy": "2025-05-31T04:33:53.225074Z",
     "iopub.status.idle": "2025-05-31T04:33:53.232283Z",
     "shell.execute_reply": "2025-05-31T04:33:53.231694Z"
    },
    "papermill": {
     "duration": 0.014305,
     "end_time": "2025-05-31T04:33:53.233492",
     "exception": false,
     "start_time": "2025-05-31T04:33:53.219187",
     "status": "completed"
    },
    "slideshow": {
     "slide_type": ""
    },
    "tags": [
     "parameters"
    ],
    "vscode": {
     "languageId": "plaintext"
    }
   },
   "outputs": [],
   "source": [
    "source_file_path = None\n",
    "destination_file_path = None"
   ]
  },
  {
   "cell_type": "code",
   "execution_count": 2,
   "id": "2ab490bd",
   "metadata": {
    "execution": {
     "iopub.execute_input": "2025-05-31T04:33:53.239457Z",
     "iopub.status.busy": "2025-05-31T04:33:53.239232Z",
     "iopub.status.idle": "2025-05-31T04:33:53.241759Z",
     "shell.execute_reply": "2025-05-31T04:33:53.241380Z"
    },
    "papermill": {
     "duration": 0.006295,
     "end_time": "2025-05-31T04:33:53.242782",
     "exception": false,
     "start_time": "2025-05-31T04:33:53.236487",
     "status": "completed"
    },
    "tags": [
     "injected-parameters"
    ]
   },
   "outputs": [],
   "source": [
    "# Parameters\n",
    "source_file_path = \"/Users/nitinsharma/playground/finance/data/Acct Statement_XX8550_31052025 (1).xls\"\n",
    "destination_file_path = \"/Users/nitinsharma/playground/finance/transformed\"\n"
   ]
  },
  {
   "cell_type": "code",
   "execution_count": 3,
   "id": "2a5f5340",
   "metadata": {
    "execution": {
     "iopub.execute_input": "2025-05-31T04:33:53.246654Z",
     "iopub.status.busy": "2025-05-31T04:33:53.246507Z",
     "iopub.status.idle": "2025-05-31T04:33:53.405316Z",
     "shell.execute_reply": "2025-05-31T04:33:53.405038Z"
    },
    "papermill": {
     "duration": 0.161449,
     "end_time": "2025-05-31T04:33:53.406048",
     "exception": false,
     "start_time": "2025-05-31T04:33:53.244599",
     "status": "completed"
    },
    "tags": [],
    "vscode": {
     "languageId": "plaintext"
    }
   },
   "outputs": [],
   "source": [
    "import pandas as pd\n",
    "import os"
   ]
  },
  {
   "cell_type": "code",
   "execution_count": 4,
   "id": "48c2323a",
   "metadata": {
    "execution": {
     "iopub.execute_input": "2025-05-31T04:33:53.408272Z",
     "iopub.status.busy": "2025-05-31T04:33:53.408168Z",
     "iopub.status.idle": "2025-05-31T04:33:53.413228Z",
     "shell.execute_reply": "2025-05-31T04:33:53.412944Z"
    },
    "papermill": {
     "duration": 0.006815,
     "end_time": "2025-05-31T04:33:53.413837",
     "exception": false,
     "start_time": "2025-05-31T04:33:53.407022",
     "status": "completed"
    },
    "tags": []
   },
   "outputs": [],
   "source": [
    "df = pd.read_excel(source_file_path)"
   ]
  },
  {
   "cell_type": "code",
   "execution_count": 5,
   "id": "9f13ce34",
   "metadata": {
    "execution": {
     "iopub.execute_input": "2025-05-31T04:33:53.415670Z",
     "iopub.status.busy": "2025-05-31T04:33:53.415591Z",
     "iopub.status.idle": "2025-05-31T04:33:53.417547Z",
     "shell.execute_reply": "2025-05-31T04:33:53.417364Z"
    },
    "papermill": {
     "duration": 0.003426,
     "end_time": "2025-05-31T04:33:53.418098",
     "exception": false,
     "start_time": "2025-05-31T04:33:53.414672",
     "status": "completed"
    },
    "tags": []
   },
   "outputs": [],
   "source": [
    "headless = df.drop(df.index[0:19])\n",
    "headless = headless.reset_index(drop=True)\n",
    "\n",
    "headless.columns = headless.iloc[0]      # Set new column names\n",
    "headless = headless[1:]                  # Drop the row now used as header\n",
    "headless = headless.reset_index(drop=True) \n",
    "headless = headless.drop(0)"
   ]
  },
  {
   "cell_type": "code",
   "execution_count": 6,
   "id": "0d131cf4",
   "metadata": {
    "execution": {
     "iopub.execute_input": "2025-05-31T04:33:53.419979Z",
     "iopub.status.busy": "2025-05-31T04:33:53.419907Z",
     "iopub.status.idle": "2025-05-31T04:33:53.421948Z",
     "shell.execute_reply": "2025-05-31T04:33:53.421798Z"
    },
    "papermill": {
     "duration": 0.003678,
     "end_time": "2025-05-31T04:33:53.422492",
     "exception": false,
     "start_time": "2025-05-31T04:33:53.418814",
     "status": "completed"
    },
    "tags": []
   },
   "outputs": [],
   "source": [
    "mask = headless.map(lambda x: isinstance(x, str) and x.strip().strip('*') == '').all(axis=1)\n",
    "cutoff_index = mask.idxmax()\n",
    "\n",
    "tailless = headless.drop(headless.index[cutoff_index-2: ])"
   ]
  },
  {
   "cell_type": "code",
   "execution_count": 7,
   "id": "9a49b1fd",
   "metadata": {
    "execution": {
     "iopub.execute_input": "2025-05-31T04:33:53.424151Z",
     "iopub.status.busy": "2025-05-31T04:33:53.424081Z",
     "iopub.status.idle": "2025-05-31T04:33:53.428224Z",
     "shell.execute_reply": "2025-05-31T04:33:53.428044Z"
    },
    "papermill": {
     "duration": 0.005602,
     "end_time": "2025-05-31T04:33:53.428781",
     "exception": false,
     "start_time": "2025-05-31T04:33:53.423179",
     "status": "completed"
    },
    "tags": []
   },
   "outputs": [
    {
     "data": {
      "text/html": [
       "<div>\n",
       "<style scoped>\n",
       "    .dataframe tbody tr th:only-of-type {\n",
       "        vertical-align: middle;\n",
       "    }\n",
       "\n",
       "    .dataframe tbody tr th {\n",
       "        vertical-align: top;\n",
       "    }\n",
       "\n",
       "    .dataframe thead th {\n",
       "        text-align: right;\n",
       "    }\n",
       "</style>\n",
       "<table border=\"1\" class=\"dataframe\">\n",
       "  <thead>\n",
       "    <tr style=\"text-align: right;\">\n",
       "      <th></th>\n",
       "      <th>Date</th>\n",
       "      <th>Narration</th>\n",
       "      <th>Chq./Ref.No.</th>\n",
       "      <th>Value Dt</th>\n",
       "      <th>Withdrawal Amt.</th>\n",
       "      <th>Deposit Amt.</th>\n",
       "      <th>Closing Balance</th>\n",
       "    </tr>\n",
       "  </thead>\n",
       "  <tbody>\n",
       "    <tr>\n",
       "      <th>40</th>\n",
       "      <td>28/03/25</td>\n",
       "      <td>UPI-NITIN SHARMA-NS290670-1@OKAXIS-UTIB0002471...</td>\n",
       "      <td>0000545364122316</td>\n",
       "      <td>28/03/25</td>\n",
       "      <td>40000</td>\n",
       "      <td>NaN</td>\n",
       "      <td>73029.36</td>\n",
       "    </tr>\n",
       "    <tr>\n",
       "      <th>41</th>\n",
       "      <td>28/03/25</td>\n",
       "      <td>UPI-MACFOS LIMITED-MACFOSLIMITED577608.RZP@RXA...</td>\n",
       "      <td>0000545393116668</td>\n",
       "      <td>28/03/25</td>\n",
       "      <td>5401</td>\n",
       "      <td>NaN</td>\n",
       "      <td>67628.36</td>\n",
       "    </tr>\n",
       "    <tr>\n",
       "      <th>42</th>\n",
       "      <td>29/03/25</td>\n",
       "      <td>UPI-SOMBARI GOPE-PAYTMQR10DZA2@PAYTM-YESB0PTMU...</td>\n",
       "      <td>0000102227424227</td>\n",
       "      <td>29/03/25</td>\n",
       "      <td>150</td>\n",
       "      <td>NaN</td>\n",
       "      <td>67478.36</td>\n",
       "    </tr>\n",
       "    <tr>\n",
       "      <th>43</th>\n",
       "      <td>29/03/25</td>\n",
       "      <td>UPI-BLINKIT-PAYTM-BLINKIT@PTYBL-YESB0PTMUPI-10...</td>\n",
       "      <td>0000102248257143</td>\n",
       "      <td>29/03/25</td>\n",
       "      <td>277</td>\n",
       "      <td>NaN</td>\n",
       "      <td>67201.36</td>\n",
       "    </tr>\n",
       "    <tr>\n",
       "      <th>44</th>\n",
       "      <td>01/04/25</td>\n",
       "      <td>INTEREST PAID TILL 31-MAR-2025</td>\n",
       "      <td>000000000000000</td>\n",
       "      <td>31/03/25</td>\n",
       "      <td>NaN</td>\n",
       "      <td>201</td>\n",
       "      <td>67402.36</td>\n",
       "    </tr>\n",
       "  </tbody>\n",
       "</table>\n",
       "</div>"
      ],
      "text/plain": [
       "0       Date                                          Narration  \\\n",
       "40  28/03/25  UPI-NITIN SHARMA-NS290670-1@OKAXIS-UTIB0002471...   \n",
       "41  28/03/25  UPI-MACFOS LIMITED-MACFOSLIMITED577608.RZP@RXA...   \n",
       "42  29/03/25  UPI-SOMBARI GOPE-PAYTMQR10DZA2@PAYTM-YESB0PTMU...   \n",
       "43  29/03/25  UPI-BLINKIT-PAYTM-BLINKIT@PTYBL-YESB0PTMUPI-10...   \n",
       "44  01/04/25                     INTEREST PAID TILL 31-MAR-2025   \n",
       "\n",
       "0       Chq./Ref.No.  Value Dt Withdrawal Amt. Deposit Amt. Closing Balance  \n",
       "40  0000545364122316  28/03/25           40000          NaN        73029.36  \n",
       "41  0000545393116668  28/03/25            5401          NaN        67628.36  \n",
       "42  0000102227424227  29/03/25             150          NaN        67478.36  \n",
       "43  0000102248257143  29/03/25             277          NaN        67201.36  \n",
       "44   000000000000000  31/03/25             NaN          201        67402.36  "
      ]
     },
     "execution_count": 7,
     "metadata": {},
     "output_type": "execute_result"
    }
   ],
   "source": [
    "tailless.tail()"
   ]
  },
  {
   "cell_type": "code",
   "execution_count": 8,
   "id": "cf29ba58",
   "metadata": {
    "execution": {
     "iopub.execute_input": "2025-05-31T04:33:53.430955Z",
     "iopub.status.busy": "2025-05-31T04:33:53.430882Z",
     "iopub.status.idle": "2025-05-31T04:33:53.433178Z",
     "shell.execute_reply": "2025-05-31T04:33:53.432996Z"
    },
    "papermill": {
     "duration": 0.00385,
     "end_time": "2025-05-31T04:33:53.433701",
     "exception": false,
     "start_time": "2025-05-31T04:33:53.429851",
     "status": "completed"
    },
    "tags": []
   },
   "outputs": [],
   "source": [
    "col_rename_map = {\n",
    "    \"Chq./Ref.No.\": \"ref_num\",\n",
    "    \"Value Dt\": \"value_date\",\n",
    "    \"Deposit Amt.\": \"deposit\",\n",
    "    \"Withdrawal Amt.\": \"withdraw\",\n",
    "    \"Closing Balance\": \"closing_balance\"\n",
    "}\n",
    "tailless.rename(columns=col_rename_map, inplace=True)\n",
    "tailless.columns = [i.lower() for i in tailless.columns]\n",
    "tailless[\"value_date\"] = pd.to_datetime(tailless[\"value_date\"], format=\"%d/%m/%y\")"
   ]
  },
  {
   "cell_type": "code",
   "execution_count": 9,
   "id": "a3d503f7",
   "metadata": {
    "execution": {
     "iopub.execute_input": "2025-05-31T04:33:53.435733Z",
     "iopub.status.busy": "2025-05-31T04:33:53.435668Z",
     "iopub.status.idle": "2025-05-31T04:33:53.438174Z",
     "shell.execute_reply": "2025-05-31T04:33:53.438022Z"
    },
    "papermill": {
     "duration": 0.004079,
     "end_time": "2025-05-31T04:33:53.438709",
     "exception": false,
     "start_time": "2025-05-31T04:33:53.434630",
     "status": "completed"
    },
    "tags": []
   },
   "outputs": [
    {
     "data": {
      "text/html": [
       "<div>\n",
       "<style scoped>\n",
       "    .dataframe tbody tr th:only-of-type {\n",
       "        vertical-align: middle;\n",
       "    }\n",
       "\n",
       "    .dataframe tbody tr th {\n",
       "        vertical-align: top;\n",
       "    }\n",
       "\n",
       "    .dataframe thead th {\n",
       "        text-align: right;\n",
       "    }\n",
       "</style>\n",
       "<table border=\"1\" class=\"dataframe\">\n",
       "  <thead>\n",
       "    <tr style=\"text-align: right;\">\n",
       "      <th></th>\n",
       "      <th>date</th>\n",
       "      <th>narration</th>\n",
       "      <th>ref_num</th>\n",
       "      <th>value_date</th>\n",
       "      <th>withdraw</th>\n",
       "      <th>deposit</th>\n",
       "      <th>closing_balance</th>\n",
       "    </tr>\n",
       "  </thead>\n",
       "  <tbody>\n",
       "    <tr>\n",
       "      <th>1</th>\n",
       "      <td>01/03/25</td>\n",
       "      <td>UPI-CRIB-CRIB.CF@AXISBANK-UTIB0000100-10434965...</td>\n",
       "      <td>0000104349650605</td>\n",
       "      <td>2025-03-01</td>\n",
       "      <td>16500</td>\n",
       "      <td>NaN</td>\n",
       "      <td>99928.54</td>\n",
       "    </tr>\n",
       "    <tr>\n",
       "      <th>2</th>\n",
       "      <td>01/03/25</td>\n",
       "      <td>UPI-INDMONEY-INDMONEYMF@ICICI-ICIC0DC0099-5060...</td>\n",
       "      <td>0000506039051820</td>\n",
       "      <td>2025-03-01</td>\n",
       "      <td>10000</td>\n",
       "      <td>NaN</td>\n",
       "      <td>89928.54</td>\n",
       "    </tr>\n",
       "    <tr>\n",
       "      <th>3</th>\n",
       "      <td>01/03/25</td>\n",
       "      <td>UPI-INDMONEY-INDMONEYMF@ICICI-ICIC0DC0099-5060...</td>\n",
       "      <td>0000506039059970</td>\n",
       "      <td>2025-03-01</td>\n",
       "      <td>10000</td>\n",
       "      <td>NaN</td>\n",
       "      <td>79928.54</td>\n",
       "    </tr>\n",
       "    <tr>\n",
       "      <th>4</th>\n",
       "      <td>01/03/25</td>\n",
       "      <td>UPI-INDMONEY-INDMONEYMF@ICICI-ICIC0DC0099-5060...</td>\n",
       "      <td>0000506039100266</td>\n",
       "      <td>2025-03-01</td>\n",
       "      <td>6000</td>\n",
       "      <td>NaN</td>\n",
       "      <td>73928.54</td>\n",
       "    </tr>\n",
       "    <tr>\n",
       "      <th>5</th>\n",
       "      <td>01/03/25</td>\n",
       "      <td>UPI-INDMONEY-INDMONEYMF@ICICI-ICIC0DC0099-5060...</td>\n",
       "      <td>0000506039035874</td>\n",
       "      <td>2025-03-01</td>\n",
       "      <td>4000</td>\n",
       "      <td>NaN</td>\n",
       "      <td>69928.54</td>\n",
       "    </tr>\n",
       "  </tbody>\n",
       "</table>\n",
       "</div>"
      ],
      "text/plain": [
       "       date                                          narration  \\\n",
       "1  01/03/25  UPI-CRIB-CRIB.CF@AXISBANK-UTIB0000100-10434965...   \n",
       "2  01/03/25  UPI-INDMONEY-INDMONEYMF@ICICI-ICIC0DC0099-5060...   \n",
       "3  01/03/25  UPI-INDMONEY-INDMONEYMF@ICICI-ICIC0DC0099-5060...   \n",
       "4  01/03/25  UPI-INDMONEY-INDMONEYMF@ICICI-ICIC0DC0099-5060...   \n",
       "5  01/03/25  UPI-INDMONEY-INDMONEYMF@ICICI-ICIC0DC0099-5060...   \n",
       "\n",
       "            ref_num value_date withdraw deposit closing_balance  \n",
       "1  0000104349650605 2025-03-01    16500     NaN        99928.54  \n",
       "2  0000506039051820 2025-03-01    10000     NaN        89928.54  \n",
       "3  0000506039059970 2025-03-01    10000     NaN        79928.54  \n",
       "4  0000506039100266 2025-03-01     6000     NaN        73928.54  \n",
       "5  0000506039035874 2025-03-01     4000     NaN        69928.54  "
      ]
     },
     "execution_count": 9,
     "metadata": {},
     "output_type": "execute_result"
    }
   ],
   "source": [
    "tailless.head()"
   ]
  },
  {
   "cell_type": "code",
   "execution_count": 10,
   "id": "a56eb839",
   "metadata": {
    "execution": {
     "iopub.execute_input": "2025-05-31T04:33:53.440589Z",
     "iopub.status.busy": "2025-05-31T04:33:53.440526Z",
     "iopub.status.idle": "2025-05-31T04:33:53.442278Z",
     "shell.execute_reply": "2025-05-31T04:33:53.442101Z"
    },
    "papermill": {
     "duration": 0.003261,
     "end_time": "2025-05-31T04:33:53.442806",
     "exception": false,
     "start_time": "2025-05-31T04:33:53.439545",
     "status": "completed"
    },
    "tags": []
   },
   "outputs": [
    {
     "data": {
      "text/plain": [
       "(Timestamp('2025-03-01 00:00:00'), Timestamp('2025-03-31 00:00:00'))"
      ]
     },
     "execution_count": 10,
     "metadata": {},
     "output_type": "execute_result"
    }
   ],
   "source": [
    "min_date = tailless['value_date'].min()\n",
    "max_date = tailless['value_date'].max()\n",
    "\n",
    "min_date, max_date"
   ]
  },
  {
   "cell_type": "code",
   "execution_count": 11,
   "id": "6d718df8",
   "metadata": {
    "execution": {
     "iopub.execute_input": "2025-05-31T04:33:53.444847Z",
     "iopub.status.busy": "2025-05-31T04:33:53.444773Z",
     "iopub.status.idle": "2025-05-31T04:33:53.446192Z",
     "shell.execute_reply": "2025-05-31T04:33:53.446023Z"
    },
    "papermill": {
     "duration": 0.002984,
     "end_time": "2025-05-31T04:33:53.446702",
     "exception": false,
     "start_time": "2025-05-31T04:33:53.443718",
     "status": "completed"
    },
    "tags": []
   },
   "outputs": [],
   "source": [
    "os.makedirs(destination_file_path, exist_ok=True)"
   ]
  },
  {
   "cell_type": "code",
   "execution_count": 12,
   "id": "e69fff23",
   "metadata": {
    "execution": {
     "iopub.execute_input": "2025-05-31T04:33:53.448567Z",
     "iopub.status.busy": "2025-05-31T04:33:53.448503Z",
     "iopub.status.idle": "2025-05-31T04:33:53.450080Z",
     "shell.execute_reply": "2025-05-31T04:33:53.449922Z"
    },
    "papermill": {
     "duration": 0.003042,
     "end_time": "2025-05-31T04:33:53.450562",
     "exception": false,
     "start_time": "2025-05-31T04:33:53.447520",
     "status": "completed"
    },
    "tags": []
   },
   "outputs": [
    {
     "data": {
      "text/plain": [
       "'/Users/nitinsharma/playground/finance/transformed/transactions_2025-03-01_to_2025-03-31.csv'"
      ]
     },
     "execution_count": 12,
     "metadata": {},
     "output_type": "execute_result"
    }
   ],
   "source": [
    "output_file_name = f\"transactions_{min_date.date()}_to_{max_date.date()}.csv\"\n",
    "output_file_path = os.path.join(destination_file_path, output_file_name)\n",
    "output_file_path"
   ]
  },
  {
   "cell_type": "code",
   "execution_count": null,
   "id": "8c450969",
   "metadata": {
    "papermill": {
     "duration": 0.000786,
     "end_time": "2025-05-31T04:33:53.452215",
     "exception": false,
     "start_time": "2025-05-31T04:33:53.451429",
     "status": "completed"
    },
    "tags": []
   },
   "outputs": [],
   "source": []
  },
  {
   "cell_type": "code",
   "execution_count": 13,
   "id": "6b9bb8e3",
   "metadata": {
    "execution": {
     "iopub.execute_input": "2025-05-31T04:33:53.454068Z",
     "iopub.status.busy": "2025-05-31T04:33:53.454004Z",
     "iopub.status.idle": "2025-05-31T04:33:53.456188Z",
     "shell.execute_reply": "2025-05-31T04:33:53.455961Z"
    },
    "papermill": {
     "duration": 0.003646,
     "end_time": "2025-05-31T04:33:53.456658",
     "exception": false,
     "start_time": "2025-05-31T04:33:53.453012",
     "status": "completed"
    },
    "tags": []
   },
   "outputs": [],
   "source": [
    "tailless.to_csv(output_file_path, index=False)"
   ]
  },
  {
   "cell_type": "code",
   "execution_count": null,
   "id": "fc6b1431",
   "metadata": {
    "papermill": {
     "duration": 0.000961,
     "end_time": "2025-05-31T04:33:53.458510",
     "exception": false,
     "start_time": "2025-05-31T04:33:53.457549",
     "status": "completed"
    },
    "tags": []
   },
   "outputs": [],
   "source": []
  }
 ],
 "metadata": {
  "kernelspec": {
   "display_name": "Python 3 (ipykernel)",
   "language": "python",
   "name": "python3"
  },
  "language_info": {
   "codemirror_mode": {
    "name": "ipython",
    "version": 3
   },
   "file_extension": ".py",
   "mimetype": "text/x-python",
   "name": "python",
   "nbconvert_exporter": "python",
   "pygments_lexer": "ipython3",
   "version": "3.11.12"
  },
  "papermill": {
   "default_parameters": {},
   "duration": 0.943951,
   "end_time": "2025-05-31T04:33:53.573636",
   "environment_variables": {},
   "exception": null,
   "input_path": "/Users/nitinsharma/playground/finance/finance/pipelines/transform.ipynb",
   "output_path": "/Users/nitinsharma/playground/finance/finance/pipelines/transform.ipynb",
   "parameters": {
    "destination_file_path": "/Users/nitinsharma/playground/finance/transformed",
    "source_file_path": "/Users/nitinsharma/playground/finance/data/Acct Statement_XX8550_31052025 (1).xls"
   },
   "start_time": "2025-05-31T04:33:52.629685",
   "version": "2.6.0"
  }
 },
 "nbformat": 4,
 "nbformat_minor": 5
}